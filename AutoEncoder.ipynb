{
  "nbformat": 4,
  "nbformat_minor": 0,
  "metadata": {
    "colab": {
      "provenance": [],
      "gpuType": "T4",
      "authorship_tag": "ABX9TyMCK7oZNr2eRvCob52eIXdl",
      "include_colab_link": true
    },
    "kernelspec": {
      "name": "python3",
      "display_name": "Python 3"
    },
    "language_info": {
      "name": "python"
    },
    "accelerator": "GPU"
  },
  "cells": [
    {
      "cell_type": "markdown",
      "metadata": {
        "id": "view-in-github",
        "colab_type": "text"
      },
      "source": [
        "<a href=\"https://colab.research.google.com/github/kurukku213/anomaly_detection_auto_encoder/blob/main/AutoEncoder.ipynb\" target=\"_parent\"><img src=\"https://colab.research.google.com/assets/colab-badge.svg\" alt=\"Open In Colab\"/></a>"
      ]
    },
    {
      "cell_type": "code",
      "execution_count": null,
      "metadata": {
        "id": "j_sQz5_RvAQc",
        "colab": {
          "base_uri": "https://localhost:8080/"
        },
        "outputId": "ec5c0183-ef9b-4834-be5d-64957b8e4cae"
      },
      "outputs": [
        {
          "output_type": "execute_result",
          "data": {
            "text/plain": [
              "<torch._C.Generator at 0x7af7df7f0cd0>"
            ]
          },
          "metadata": {},
          "execution_count": 1
        }
      ],
      "source": [
        "\"\"\"\n",
        "AutoEncoderで異常検知を実装してみる\n",
        "\"\"\"\n",
        "\n",
        "import numpy as np\n",
        "import glob\n",
        "import csv\n",
        "import os\n",
        "import random\n",
        "from pathlib import Path\n",
        "import matplotlib.pyplot as plt\n",
        "import torch\n",
        "import torch.nn as nn\n",
        "import torch.optim as optim\n",
        "import pandas as pd\n",
        "import torch.nn.functional as F\n",
        "from sklearn import preprocessing\n",
        "from sklearn.metrics import roc_curve, roc_auc_score\n",
        "from torch.utils.data import TensorDataset, DataLoader, random_split\n",
        "\n",
        "seed = 0\n",
        "\n",
        "# シードを固定するための関数\n",
        "def torch_fix_seed(seed):\n",
        "    os.environ[\"PYTHONHASHSEED\"] = str(seed)\n",
        "    # Python random\n",
        "    random.seed(seed)\n",
        "    # Numpy\n",
        "    np.random.seed(seed)\n",
        "    # Pytorch\n",
        "    torch.manual_seed(seed)\n",
        "    torch.cuda.manual_seed(seed)\n",
        "    torch.use_deterministic_algorithms = True\n",
        "    torch.backends.cudnn.deterministic = True\n",
        "    torch.backends.cudnn.benchmark = False\n",
        "\n",
        "def seed_worker(worker_id):\n",
        "    worker_seed = torch.initial_seed() % 2**32\n",
        "    np.random.seed(worker_seed)\n",
        "    random.seed(worker_seed)\n",
        "\n",
        "torch_fix_seed(seed)\n",
        "\n",
        "g = torch.Generator()\n",
        "g.manual_seed(seed)"
      ]
    },
    {
      "cell_type": "code",
      "source": [
        "\"\"\"\n",
        "Googleドライブのマウント\n",
        "\"\"\"\n",
        "\n",
        "### 名前によって変更\n",
        "sensor_name = \"センサD\"\n",
        "model_name = \"sensorD\"\n",
        "\n",
        "from google.colab import drive\n",
        "drive.mount(\"/content/drive\")"
      ],
      "metadata": {
        "id": "_5vti4SivYjs",
        "colab": {
          "base_uri": "https://localhost:8080/"
        },
        "outputId": "96147238-0faa-4086-abf9-a79833206971"
      },
      "execution_count": null,
      "outputs": [
        {
          "output_type": "stream",
          "name": "stdout",
          "text": [
            "Drive already mounted at /content/drive; to attempt to forcibly remount, call drive.mount(\"/content/drive\", force_remount=True).\n"
          ]
        }
      ]
    },
    {
      "cell_type": "code",
      "source": [
        "\"\"\"\n",
        "データを取得してテンソルに変換\n",
        "\"\"\"\n",
        "\n",
        "normal_folder = Path(f\"/content/drive/MyDrive/CSV/{sensor_name}正常\")\n",
        "anomaly_folder = [Path(f\"/content/drive/MyDrive/CSV/{sensor_name}異物1\"),\n",
        "                  Path(f\"/content/drive/MyDrive/CSV/{sensor_name}異物2\"),\n",
        "                  Path(f\"/content/drive/MyDrive/CSV/{sensor_name}異物2\")]\n",
        "\n",
        "normal_data = []\n",
        "for file in normal_folder.glob(\"**/*.csv\"):\n",
        "    df = pd.read_csv(file)\n",
        "    acceleration = df[\"acceleration\"].astype(float).to_list()\n",
        "    normal_data.append(acceleration)\n",
        "\n",
        "anomaly_data = []\n",
        "for folder in anomaly_folder:\n",
        "    for file in folder.glob(\"**/*.csv\"):\n",
        "        df = pd.read_csv(file)\n",
        "        acceleration = df[\"acceleration\"].astype(float).to_list()\n",
        "        anomaly_data.append(acceleration)\n",
        "\n",
        "normal_data = torch.tensor(normal_data)\n",
        "anomaly_data = torch.tensor(anomaly_data)\n",
        "\n",
        "input_dim = normal_data.shape[1]\n",
        "normal_row = normal_data.shape[0]\n",
        "anomaly_row = anomaly_data.shape[0]"
      ],
      "metadata": {
        "id": "Dla00bkaVozx"
      },
      "execution_count": null,
      "outputs": []
    },
    {
      "cell_type": "code",
      "source": [
        "# オートエンコーダの定義\n",
        "class AutoEncoder(nn.Module):\n",
        "    def __init__(self, input_dim):\n",
        "        super(AutoEncoder, self).__init__()\n",
        "        # エンコーダ\n",
        "        self.encoder = nn.Sequential(\n",
        "            nn.Linear(input_dim, 512),\n",
        "            nn.ReLU(),\n",
        "            nn.Linear(512, 128),\n",
        "            nn.ReLU()\n",
        "        )\n",
        "        # デコーダ\n",
        "        self.decoder = nn.Sequential(\n",
        "            nn.Linear(128, 512),\n",
        "            nn.ReLU(),\n",
        "            nn.Linear(512, input_dim),\n",
        "            nn.ReLU()\n",
        "        )\n",
        "\n",
        "    def forward(self, x):\n",
        "        encoded = self.encoder(x)\n",
        "        decoded = self.decoder(encoded)\n",
        "        return decoded"
      ],
      "metadata": {
        "id": "-MphK6bDdd4A"
      },
      "execution_count": null,
      "outputs": []
    },
    {
      "cell_type": "code",
      "source": [
        "\"\"\"\n",
        "テンソルと関数の定義\n",
        "\"\"\"\n",
        "\n",
        "# GPUを使用\n",
        "device = torch.device(\"cuda\" if torch.cuda.is_available() else \"cpu\")\n",
        "\n",
        "# テストデータと訓練データ\n",
        "test_data = torch.cat((normal_data, anomaly_data), dim=0)\n",
        "train_data = normal_data\n",
        "\n",
        "# 正常: 0, 異常: 1\n",
        "labels = torch.cat((torch.zeros(normal_row), torch.ones(anomaly_row)), dim=0)\n",
        "\n",
        "# データローダの準備\n",
        "train_loader = DataLoader(train_data,\n",
        "                          batch_size=64,\n",
        "                          shuffle=True,\n",
        "                          num_workers=2,\n",
        "                          worker_init_fn=seed_worker,\n",
        "                          generator=g)\n",
        "\n",
        "# モデル、損失関数、最適化\n",
        "model = AutoEncoder(input_dim=input_dim).to(device)\n",
        "criterion = nn.MSELoss()\n",
        "optimizer = optim.Adam(model.parameters(), lr=0.001)"
      ],
      "metadata": {
        "id": "kyFF2bokeXK-"
      },
      "execution_count": null,
      "outputs": []
    },
    {
      "cell_type": "code",
      "source": [
        "\"\"\"\n",
        "学習と異常度の導出\n",
        "\"\"\"\n",
        "\n",
        "epochs = 200\n",
        "train_loss_list = []  # 学習損失（MSE）\n",
        "\n",
        "# モデルの学習\n",
        "for epoch in range(epochs):\n",
        "  model.train()\n",
        "  train_loss = 0\n",
        "\n",
        "  for inputs in train_loader:\n",
        "    inputs = inputs.to(device)\n",
        "\n",
        "    # 順伝播\n",
        "    outputs = model(inputs)\n",
        "\n",
        "    # 再構成誤差の計算\n",
        "    loss = criterion(outputs, inputs)\n",
        "\n",
        "    # ミニバッチごとの損失を蓄積\n",
        "    train_loss += loss.item()\n",
        "\n",
        "    # 逆伝播とパラメータ更新\n",
        "    optimizer.zero_grad()\n",
        "    loss.backward()\n",
        "    optimizer.step()\n",
        "\n",
        "  # ミニバッチの平均の損失を計算\n",
        "  batch_train_loss = train_loss / len(train_loader)\n",
        "  train_loss_list.append(batch_train_loss)\n",
        "\n",
        "# 損失（MSE）\n",
        "plt.figure()\n",
        "plt.title(\"Train Loss\")\n",
        "plt.xlabel(\"Epoch\")\n",
        "plt.ylabel(\"MSE\")\n",
        "plt.plot(range(1, epochs+1), train_loss_list, color=\"blue\",\n",
        "         linestyle=\"-\", label=\"Train_Loss\")\n",
        "# 表示\n",
        "plt.show()\n",
        "\n",
        "# テストデータで評価\n",
        "model.eval()\n",
        "anomaly_score = []\n",
        "with torch.no_grad():\n",
        "  for data in test_data:\n",
        "    data = data.to(device)\n",
        "    sample = model(data)\n",
        "    loss = criterion(data, sample)\n",
        "    anomaly_score.append(round(loss.item(), 3))"
      ],
      "metadata": {
        "id": "z3l-lb5uvG9B",
        "colab": {
          "base_uri": "https://localhost:8080/",
          "height": 472
        },
        "outputId": "3e708313-aa40-48d8-df12-af738fcd2331"
      },
      "execution_count": null,
      "outputs": [
        {
          "output_type": "display_data",
          "data": {
            "text/plain": [
              "<Figure size 640x480 with 1 Axes>"
            ],
            "image/png": "[encoded data removed]"
          },
          "metadata": {}
        }
      ]
    },
    {
      "cell_type": "code",
      "source": [
        "\"\"\"\n",
        "異常度の可視化\n",
        "\"\"\"\n",
        "\n",
        "plt.figure()\n",
        "plt.xlabel(\"sample\")\n",
        "plt.ylabel(\"anomaly score\")\n",
        "plt.plot(range(1, len(anomaly_score)+1), anomaly_score, \"^\")\n",
        "\n",
        "# 正常と異常の境目\n",
        "plt.axvline(normal_row, color=\"green\", linestyle=\":\")\n",
        "\n",
        "# 閾値\n",
        "#plt.axhline(2.384, color=\"red\")\n",
        "\n",
        "# 表示\n",
        "plt.show()"
      ],
      "metadata": {
        "colab": {
          "base_uri": "https://localhost:8080/",
          "height": 449
        },
        "id": "r-bIX-yVfrFn",
        "outputId": "5e61f642-f64b-4f73-97c6-eb462df01733"
      },
      "execution_count": null,
      "outputs": [
        {
          "output_type": "display_data",
          "data": {
            "text/plain": [
              "<Figure size 640x480 with 1 Axes>"
            ],
            "image/png": "[encoded data removed]"
          },
          "metadata": {}
        }
      ]
    },
    {
      "cell_type": "code",
      "source": [
        "\"\"\"\n",
        "ROC曲線とAUCの計算\n",
        "\"\"\"\n",
        "\n",
        "fpr, tpr, thresholds = roc_curve(labels.numpy(), anomaly_score)\n",
        "auc = roc_auc_score(labels.numpy(), anomaly_score)\n",
        "\n",
        "# ROC曲線のプロット\n",
        "plt.figure()\n",
        "plt.plot(fpr, tpr, label=f\"ROC curve (AUC = {auc:.2f})\")\n",
        "plt.plot([0, 1], [0, 1], linestyle=\"--\", color=\"gray\")\n",
        "plt.xlabel(\"False Positive Rate\")\n",
        "plt.ylabel(\"True Positive Rate\")\n",
        "plt.title(\"ROC Curve\")\n",
        "plt.legend()\n",
        "plt.grid()\n",
        "plt.show()\n",
        "\n",
        "print(f\"AUC: {auc:.4f}\")"
      ],
      "metadata": {
        "id": "5dBIGHAlb6sV",
        "colab": {
          "base_uri": "https://localhost:8080/",
          "height": 490
        },
        "outputId": "b21b1cc9-2525-4df7-912e-696e392fc36f"
      },
      "execution_count": null,
      "outputs": [
        {
          "output_type": "display_data",
          "data": {
            "text/plain": [
              "<Figure size 640x480 with 1 Axes>"
            ],
            "image/png": "[encoded data removed]"
          },
          "metadata": {}
        },
        {
          "output_type": "stream",
          "name": "stdout",
          "text": [
            "AUC: 1.0000\n"
          ]
        }
      ]
    },
    {
      "cell_type": "code",
      "source": [
        "\"\"\"\n",
        "閾値の決定\n",
        "\"\"\"\n",
        "\n",
        "# Youden's Index\n",
        "youden_index = tpr - fpr\n",
        "optimal_idx_youden = youden_index.argmax()\n",
        "optimal_threshold_youden = thresholds[optimal_idx_youden]\n",
        "\n",
        "print(f\"Optimal Threshold (Youden's Index): {optimal_threshold_youden}\")"
      ],
      "metadata": {
        "id": "m_NT8Eg1Tumz",
        "colab": {
          "base_uri": "https://localhost:8080/"
        },
        "outputId": "36e02cf1-3cdf-4007-b05f-40fdf0eb8ebb"
      },
      "execution_count": null,
      "outputs": [
        {
          "output_type": "stream",
          "name": "stdout",
          "text": [
            "Optimal Threshold (Youden's Index): 2.384\n"
          ]
        }
      ]
    },
    {
      "cell_type": "code",
      "source": [
        "\"\"\"\n",
        "最終的な評価\n",
        "\"\"\"\n",
        "\n",
        "from sklearn.metrics import accuracy_score\n",
        "from sklearn.metrics import recall_score\n",
        "from sklearn.metrics import precision_score\n",
        "from sklearn.metrics import confusion_matrix\n",
        "\n",
        "predict = []\n",
        "\n",
        "for score in anomaly_score:\n",
        "  if score > optimal_threshold_youden:\n",
        "    # 異常と判定\n",
        "    predict.append(1)\n",
        "  else:\n",
        "    # 正常と判定\n",
        "    predict.append(0)\n",
        "\n",
        "print(\"正解率\", accuracy_score(labels.numpy(), predict))\n",
        "print(\"適合率\", precision_score(labels.numpy(), predict))\n",
        "print(\"再現率\", recall_score(labels.numpy(), predict))\n",
        "\n",
        "tn, fp, fn, tp = confusion_matrix(labels.numpy(), predict).ravel()\n",
        "print(\"True Positive Rate (TPR):\", tp / (tp + fn))\n",
        "print(\"False Positive Rate (FPR):\", fp / (fp + tn))\n",
        "\n",
        "print(\"混同行列\")\n",
        "print(confusion_matrix(labels.numpy(), predict))"
      ],
      "metadata": {
        "colab": {
          "base_uri": "https://localhost:8080/"
        },
        "id": "PjbsoeYap_st",
        "outputId": "90518deb-0c84-48ff-f224-20b3d210ee16"
      },
      "execution_count": null,
      "outputs": [
        {
          "output_type": "stream",
          "name": "stdout",
          "text": [
            "正解率 0.9846153846153847\n",
            "適合率 1.0\n",
            "再現率 0.9047619047619048\n",
            "True Positive Rate (TPR): 0.9047619047619048\n",
            "False Positive Rate (FPR): 0.0\n",
            "混同行列\n",
            "[[109   0]\n",
            " [  2  19]]\n"
          ]
        }
      ]
    },
    {
      "cell_type": "code",
      "source": [
        "# modelの保存\n",
        "\n",
        "torch.save(model, f\"/content/drive/MyDrive/{model_name}.pth\")"
      ],
      "metadata": {
        "id": "a16IKnX8sEEF"
      },
      "execution_count": null,
      "outputs": []
    }
  ]
}